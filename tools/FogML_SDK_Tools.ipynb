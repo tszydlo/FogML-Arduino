{
  "cells": [
    {
      "cell_type": "markdown",
      "source": [
        "# **FogML Time Series Data Classification For MCU**"
      ],
      "metadata": {
        "id": "vJ_797DoXFj2"
      }
    },
    {
      "cell_type": "markdown",
      "source": [
        "## FogML installation"
      ],
      "metadata": {
        "id": "1AFceIvEzoqB"
      }
    },
    {
      "cell_type": "code",
      "execution_count": null,
      "metadata": {
        "colab": {
          "base_uri": "https://localhost:8080/"
        },
        "id": "ZC5jiXiTgsYV",
        "outputId": "e9f630bd-c15c-40de-a952-6b011a3a5918"
      },
      "outputs": [
        {
          "output_type": "stream",
          "name": "stdout",
          "text": [
            "Looking in indexes: https://pypi.org/simple, https://us-python.pkg.dev/colab-wheels/public/simple/\n",
            "Collecting fogml\n",
            "  Downloading fogml-0.0.4-py3-none-any.whl (21 kB)\n",
            "Installing collected packages: fogml\n",
            "Successfully installed fogml-0.0.4\n"
          ]
        }
      ],
      "source": [
        "!pip install fogml"
      ]
    },
    {
      "cell_type": "code",
      "execution_count": null,
      "metadata": {
        "id": "0i0v8FX3g91Q"
      },
      "outputs": [],
      "source": [
        "from sklearn.ensemble import RandomForestClassifier\n",
        "from sklearn.datasets import make_classification\n",
        "\n",
        "import pandas as pd\n",
        "import numpy as np\n",
        "import matplotlib.pyplot as plt\n",
        "\n",
        "from fogml.generators import GeneratorFactory\n",
        "\n",
        "from sklearn.mixture import GaussianMixture"
      ]
    },
    {
      "cell_type": "markdown",
      "source": [
        "## Data preparation"
      ],
      "metadata": {
        "id": "legsXf2p0YSu"
      }
    },
    {
      "cell_type": "markdown",
      "source": [
        "In the example application for MCU, set `#define DATA_LOGGER` and collect data for various gestures/speeds/etc."
      ],
      "metadata": {
        "id": "cRhrv8uV0L52"
      }
    },
    {
      "cell_type": "code",
      "source": [
        "DATA = [\"speed0.csv\", \"speed1.csv\", \"speed2.csv\", \"speed3.csv\"]\n",
        "LABELS = [\"OFF\", \"SPEED 1\", \"SPEED 2\", \"SPEED 3\"]"
      ],
      "metadata": {
        "id": "-YAxSmalzVy_"
      },
      "execution_count": null,
      "outputs": []
    },
    {
      "cell_type": "markdown",
      "source": [
        "## Random forrest model training"
      ],
      "metadata": {
        "id": "85DLeLCyXUyF"
      }
    },
    {
      "cell_type": "code",
      "source": [
        "spX_t = []\n",
        "spY_t = []\n",
        "\n",
        "i = 0\n",
        "for fname in DATA:\n",
        "  tmp = pd.read_csv(fname, delimiter=\" \", header=None)\n",
        "  spX_t.append(tmp)\n",
        "  spY_t.append([i] * tmp.shape[0])\n",
        "\n",
        "spX = np.concatenate( spX_t, axis = 0 )\n",
        "spY = np.concatenate( spY_t, axis = 0 )\n",
        "\n",
        "print(spX.shape)\n",
        "print(spY.shape)"
      ],
      "metadata": {
        "colab": {
          "base_uri": "https://localhost:8080/"
        },
        "id": "C0PEobsNv_wp",
        "outputId": "9f86df4f-2d27-4510-a48b-f47d747b0fd0"
      },
      "execution_count": null,
      "outputs": [
        {
          "output_type": "stream",
          "name": "stdout",
          "text": [
            "(124, 12)\n",
            "(124,)\n"
          ]
        }
      ]
    },
    {
      "cell_type": "code",
      "execution_count": null,
      "metadata": {
        "id": "AGwuKgYEg34S",
        "colab": {
          "base_uri": "https://localhost:8080/"
        },
        "outputId": "28aa0fd7-2d7c-42c8-d229-4734b0081bce"
      },
      "outputs": [
        {
          "output_type": "stream",
          "name": "stdout",
          "text": [
            "accuracy:  1.0\n"
          ]
        }
      ],
      "source": [
        "clf = RandomForestClassifier(max_depth=3, random_state=0)\n",
        "clf.fit(spX, spY)\n",
        "print( 'accuracy: ',clf.score(spX,spY))"
      ]
    },
    {
      "cell_type": "markdown",
      "source": [
        "# FogML Classifier Generation"
      ],
      "metadata": {
        "id": "GiO6uEG9W1TE"
      }
    },
    {
      "cell_type": "code",
      "source": [
        "factory = GeneratorFactory()\n",
        "generator = factory.get_generator(clf)\n",
        "generator.generate()"
      ],
      "metadata": {
        "id": "7PCqY10ipcx-"
      },
      "execution_count": null,
      "outputs": []
    },
    {
      "cell_type": "markdown",
      "source": [
        "Copy generated `random_forrest_model.c` to the folder `fogml_generated` in the MCU project.\n"
      ],
      "metadata": {
        "id": "gCN5nxTTLwSs"
      }
    },
    {
      "cell_type": "markdown",
      "source": [
        "Anomaly Detection"
      ],
      "metadata": {
        "id": "tUY9oSuCXh02"
      }
    },
    {
      "cell_type": "markdown",
      "source": [
        "## Appendix - Feature Importance Analysis"
      ],
      "metadata": {
        "id": "VPOELgakJ3Gv"
      }
    },
    {
      "cell_type": "code",
      "source": [
        "DSP_BLOCKS = [\"BASE\", \"RMS\", \"CROSSINGS\"]\n",
        "\n",
        "DSP_BLOCKS_FEATURES = {\"BASE\": [\"(max-min)_X\", \"mean_X\", \"(max-min)_Y\", \"mean_Y\", \"(max-min)_Z\", \"mean_Z\"],\n",
        "              \"RMS\": [\"RMS_X\", \"RMS_Y\", \"RMS_Z\"],\n",
        "              \"CROSSINGS\": [\"CROSS_X\", \"CROSS_Y\", \"CROSS_Z\"]}\n",
        "\n",
        "feature_names = [\"(max-min)_X\", \"mean_X\", \"(max-min)_Y\", \"mean_Y\", \"(max-min)_Z\", \"mean_Z\",\n",
        "                 \"RMS_X\", \"RMS_Y\", \"RMS_Z\",\n",
        "                 \"CROSS_X\", \"CROSS_Y\", \"CROSS_Z\"]\n",
        "\n",
        "\n",
        "importances = clf.feature_importances_\n",
        "std = np.std([tree.feature_importances_ for tree in clf.estimators_], axis=0)\n",
        "\n",
        "forest_importances = pd.Series(importances, index=feature_names)\n",
        "\n",
        "fig, ax = plt.subplots()\n",
        "forest_importances.plot.bar(yerr=std, ax=ax)\n",
        "ax.set_title(\"Feature importances using MDI\")\n",
        "ax.set_ylabel(\"Mean decrease in impurity\")\n",
        "fig.tight_layout()"
      ],
      "metadata": {
        "colab": {
          "base_uri": "https://localhost:8080/",
          "height": 297
        },
        "id": "ozcNCRfDJ2T9",
        "outputId": "e427a4f8-da6c-462f-87b4-6c55d883590b"
      },
      "execution_count": null,
      "outputs": [
        {
          "output_type": "display_data",
          "data": {
            "text/plain": [
              "<Figure size 432x288 with 1 Axes>"
            ],
            "image/png": "[encoded data removed]"
          },
          "metadata": {
            "needs_background": "light"
          }
        }
      ]
    }
  ],
  "metadata": {
    "colab": {
      "collapsed_sections": [],
      "name": "FogML_SDK_Tools.ipynb",
      "provenance": []
    },
    "kernelspec": {
      "display_name": "Python 3",
      "name": "python3"
    },
    "language_info": {
      "name": "python"
    }
  },
  "nbformat": 4,
  "nbformat_minor": 0
}